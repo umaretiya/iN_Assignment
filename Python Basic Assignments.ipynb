{
 "cells": [
  {
   "cell_type": "markdown",
   "id": "91ec44cc",
   "metadata": {},
   "source": [
    "## Python Basic Assignments 04"
   ]
  },
  {
   "cell_type": "markdown",
   "id": "aef2ba10",
   "metadata": {},
   "source": [
    "1. What exactly is []?\n",
    "2. In a list of values stored in a variable called spam, how would you assign the value 'hello' as the third value? (Assume [2, 4, 6, 8, 10] are in spam.)\n",
    "Let's pretend the spam includes the list ['a', 'b', 'c', 'd'] for the next three queries.\n",
    "3. What is the value of spam[int(int('3' * 2) / 11)]?\n",
    "4. What is the value of spam[-1]?\n",
    "5. What is the value of spam[:2]?\n",
    "Let's pretend bacon has the list [3.14, 'cat,' 11, 'cat,' True] for the next three questions.\n",
    "6. What is the value of bacon.index('cat')?\n",
    "7. How does bacon.append(99) change the look of the list value in bacon?\n",
    "8. How does bacon.remove('cat') change the look of the list in bacon?\n",
    "9. What are the list concatenation and list replication operators?\n",
    "10. What is difference between the list methods append() and insert()?\n",
    "11. What are the two methods for removing items from a list?\n",
    "12. Describe how list values and string values are identical.\n",
    "13. What's the difference between tuples and lists?\n",
    "14. How do you type a tuple value that only contains the integer 42?\n",
    "15. How do you get a list value's tuple form? How do you get a tuple value's list form?\n",
    "16. Variables that \"contain\" list values are not necessarily lists themselves. Instead, what do they contain?\n",
    "17. How do you distinguish between copy.copy() and copy.deepcopy()?\n"
   ]
  },
  {
   "cell_type": "code",
   "execution_count": null,
   "id": "04f87922",
   "metadata": {},
   "outputs": [],
   "source": [
    "# 1. What exactly is []?\n",
    "\"\"\"\n",
    "ans: ths is called python list\n",
    "\"\"\""
   ]
  },
  {
   "cell_type": "code",
   "execution_count": 66,
   "id": "78a55bdd",
   "metadata": {},
   "outputs": [
    {
     "data": {
      "text/plain": [
       "[2, 4, 'hello', 6, 8, 10]"
      ]
     },
     "execution_count": 66,
     "metadata": {},
     "output_type": "execute_result"
    }
   ],
   "source": [
    "# 2. In a list of values stored in a variable called spam, how would you assign the value 'hello' as the third value? (Assume [2, 4, 6, 8, 10] are in spam.) \n",
    "\n",
    "spam = [2, 4, 6, 8, 10]\n",
    "spam.insert(2,'hello')\n",
    "spam"
   ]
  },
  {
   "cell_type": "code",
   "execution_count": 9,
   "id": "5b34a939",
   "metadata": {},
   "outputs": [],
   "source": [
    "# 3. Let's pretend the spam includes the list ['a', 'b', 'c', 'd'] for the next three queries.\n",
    "# 3. What is the value of spam[int(int('3' * 2) / 11)]?\n",
    "spam = [2, 4, 6, 8, 10]\n",
    "spam[int(int('3'*2)/11)]\n",
    "ans = spam[int(int('3'*2)/11)]"
   ]
  },
  {
   "cell_type": "code",
   "execution_count": 11,
   "id": "9a63b8bc",
   "metadata": {},
   "outputs": [
    {
     "data": {
      "text/plain": [
       "10"
      ]
     },
     "execution_count": 11,
     "metadata": {},
     "output_type": "execute_result"
    }
   ],
   "source": [
    "# 4.. What is the value of spam[-1]?\n",
    "spam[-1]\n"
   ]
  },
  {
   "cell_type": "code",
   "execution_count": 13,
   "id": "a33be3d7",
   "metadata": {},
   "outputs": [
    {
     "data": {
      "text/plain": [
       "[2, 4]"
      ]
     },
     "execution_count": 13,
     "metadata": {},
     "output_type": "execute_result"
    }
   ],
   "source": [
    "# 5. What is the value of spam[:2]? \n",
    "spam[:2]"
   ]
  },
  {
   "cell_type": "code",
   "execution_count": 26,
   "id": "5ef34797",
   "metadata": {},
   "outputs": [
    {
     "name": "stdout",
     "output_type": "stream",
     "text": [
      "1\n",
      "1\n"
     ]
    }
   ],
   "source": [
    "# Let's pretend bacon has the list [3.14, 'cat,' 11, 'cat,' True] for the next three questions.\n",
    "# 6. What is the value of bacon.index('cat')?\n",
    "bacon = [3.14, 'cat' ,11, 'cat' ,True]\n",
    "for i in bacon:\n",
    "    if i == 'cat':\n",
    "        print(bacon.index(i))"
   ]
  },
  {
   "cell_type": "code",
   "execution_count": 23,
   "id": "cffb0a0e",
   "metadata": {},
   "outputs": [
    {
     "data": {
      "text/plain": [
       "[3.14, 'cat', 11, 'cat', True, 99, 99]"
      ]
     },
     "execution_count": 23,
     "metadata": {},
     "output_type": "execute_result"
    }
   ],
   "source": [
    "# 7 How does bacon.append(99) change the look of the list value in bacon?\n",
    "bacon.append(99)\n",
    "bacon"
   ]
  },
  {
   "cell_type": "code",
   "execution_count": 27,
   "id": "8aa82402",
   "metadata": {},
   "outputs": [
    {
     "data": {
      "text/plain": [
       "[3.14, 11, 'cat', True]"
      ]
     },
     "execution_count": 27,
     "metadata": {},
     "output_type": "execute_result"
    }
   ],
   "source": [
    "# 8. How does bacon.remove('cat') change the look of the list in bacon?\n",
    "bacon.remove('cat')\n",
    "bacon"
   ]
  },
  {
   "cell_type": "code",
   "execution_count": 31,
   "id": "04576e94",
   "metadata": {},
   "outputs": [
    {
     "data": {
      "text/plain": [
       "[2, 4, 6, 8, 10, 2, 4, 6, 8, 10]"
      ]
     },
     "execution_count": 31,
     "metadata": {},
     "output_type": "execute_result"
    }
   ],
   "source": [
    "#9. What are the list concatenation and list replication operators?\n",
    "spam + bacon # operator + list concatinatioons\n",
    "spam * 2 # * operator is a replication "
   ]
  },
  {
   "cell_type": "code",
   "execution_count": 44,
   "id": "949e0a55",
   "metadata": {},
   "outputs": [
    {
     "data": {
      "text/plain": [
       "[3.14, 'man', 'man', 'man']"
      ]
     },
     "execution_count": 44,
     "metadata": {},
     "output_type": "execute_result"
    }
   ],
   "source": [
    "# 10. What is difference between the list methods append() and insert()?\n",
    "# append add elements in end of list e.g start adding elements from last\n",
    "bacon.append('man')\n",
    "bacon.insert(1,'man')\n",
    "bacon"
   ]
  },
  {
   "cell_type": "code",
   "execution_count": 46,
   "id": "be850d99",
   "metadata": {},
   "outputs": [
    {
     "data": {
      "text/plain": [
       "[3.14, 'man']"
      ]
     },
     "execution_count": 46,
     "metadata": {},
     "output_type": "execute_result"
    }
   ],
   "source": [
    "# 10.What are the two methods for removing items from a list?\n",
    "# first is pop \n",
    "bacon.pop()\n",
    "bacon\n",
    "# seond method\n",
    "del bacon[1]\n",
    "bacon"
   ]
  },
  {
   "cell_type": "code",
   "execution_count": null,
   "id": "014de6ac",
   "metadata": {},
   "outputs": [],
   "source": [
    "# Describe how list values and string values are identical.\n"
   ]
  },
  {
   "cell_type": "code",
   "execution_count": null,
   "id": "1231ee9c",
   "metadata": {},
   "outputs": [],
   "source": [
    "#11.What's the difference between tuples and lists?\n",
    "\n",
    "# tuples is immutable and list is mutable\n",
    "# tuple symbole is () and list []"
   ]
  },
  {
   "cell_type": "code",
   "execution_count": 47,
   "id": "f4b26356",
   "metadata": {},
   "outputs": [
    {
     "data": {
      "text/plain": [
       "(42,)"
      ]
     },
     "execution_count": 47,
     "metadata": {},
     "output_type": "execute_result"
    }
   ],
   "source": [
    "# How do you type a tuple value that only contains the integer 42?\n",
    "42,"
   ]
  },
  {
   "cell_type": "code",
   "execution_count": 51,
   "id": "a56b6254",
   "metadata": {},
   "outputs": [
    {
     "name": "stdout",
     "output_type": "stream",
     "text": [
      "(3.14, 'man')\n",
      "[3.14, 'man']\n"
     ]
    }
   ],
   "source": [
    "# How do you get a list value's tuple form? How do you get a tuple value's list form?\n",
    "bacon = tuple(bacon)\n",
    "print(bacon)\n",
    "bacon = list(bacon)\n",
    "print(bacon)\n",
    "# with type conversion"
   ]
  },
  {
   "cell_type": "code",
   "execution_count": null,
   "id": "eb35a110",
   "metadata": {},
   "outputs": [],
   "source": [
    "# Variables that \"contain\" list values are not necessarily lists themselves. Instead, what do they contain?\n",
    "\n",
    "# they in form of range"
   ]
  },
  {
   "cell_type": "code",
   "execution_count": 56,
   "id": "f9d2188e",
   "metadata": {},
   "outputs": [],
   "source": [
    "# How do you distinguish between copy.copy() and copy.deepcopy()?\n",
    "import copy\n",
    "spam\n",
    "\n",
    "l1  = copy.copy(spam) # copy object changes reflect only copyed object\n",
    "\n",
    "l2 = copy.deepcopy(spam) # both data object not impacted after changes done in copied "
   ]
  },
  {
   "cell_type": "code",
   "execution_count": null,
   "id": "e531ddd5",
   "metadata": {},
   "outputs": [],
   "source": []
  },
  {
   "cell_type": "markdown",
   "id": "310cf840",
   "metadata": {},
   "source": [
    "## Python Basic Assignments 05"
   ]
  },
  {
   "cell_type": "markdown",
   "id": "117b03c2",
   "metadata": {},
   "source": [
    "1. What does an empty dictionary's code look like?\n",
    "2. What is the value of a dictionary value with the key 'foo' and the value 42?\n",
    "3. What is the most significant distinction between a dictionary and a list?\n",
    "4. What happens if you try to access spam['foo'] if spam is {'bar': 100}?\n",
    "5. If a dictionary is stored in spam, what is the difference between the expressions 'cat' in spam and 'cat' in spam.keys()?\n",
    "6. If a dictionary is stored in spam, what is the difference between the expressions 'cat' in spam and 'cat' in spam.values()?\n",
    "7. What is a shortcut for the following code?\n",
    "if 'color' not in spam:\n",
    "spam['color'] = 'black'\n",
    "\n",
    "8. How do you \"pretty print\" dictionary values using which module and function?\n"
   ]
  },
  {
   "cell_type": "code",
   "execution_count": null,
   "id": "10bf78bf",
   "metadata": {},
   "outputs": [],
   "source": [
    "#  1. What does an empty dictionary's code look like?\n",
    "empy_dict = {}"
   ]
  },
  {
   "cell_type": "code",
   "execution_count": 57,
   "id": "a6745411",
   "metadata": {},
   "outputs": [],
   "source": [
    "# 2. What is the value of a dictionary value with the key 'foo' and the value 42?\n",
    "mydict = {'foo':42}"
   ]
  },
  {
   "cell_type": "code",
   "execution_count": null,
   "id": "af85651f",
   "metadata": {},
   "outputs": [],
   "source": [
    "# 3. What is the most significant distinction between a dictionary and a list?\n",
    "\"\"\"# dictionay is nota an hashable while  list\n",
    "# dictionay have key:value pair whille list have not\n",
    "# dictionay have not an index while list have\n",
    "# both are mutable\"\"\""
   ]
  },
  {
   "cell_type": "code",
   "execution_count": null,
   "id": "1a5a4f0d",
   "metadata": {},
   "outputs": [],
   "source": [
    "# 4. What happens if you try to access spam['foo'] if spam is {'bar': 100}?\n",
    "\"\"\"\n",
    "we gota a key error if key in is not present \"\"\""
   ]
  },
  {
   "cell_type": "code",
   "execution_count": 69,
   "id": "a96a4b31",
   "metadata": {},
   "outputs": [
    {
     "data": {
      "text/plain": [
       "dict_keys(['cat'])"
      ]
     },
     "execution_count": 69,
     "metadata": {},
     "output_type": "execute_result"
    }
   ],
   "source": [
    "# 5. If a dictionary is stored in spam, what is the difference between the expressions 'cat' in spam and 'cat' in spam.keys()?\n",
    "span = {}\n",
    "span['cat'] = spam\n",
    "span\n",
    "\"\"\" keys is 'cat' and value is list \"\"\"\n",
    "span.keys()"
   ]
  },
  {
   "cell_type": "code",
   "execution_count": 68,
   "id": "6bbcf8d7",
   "metadata": {},
   "outputs": [
    {
     "data": {
      "text/plain": [
       "dict_values([[2, 4, 'hello', 6, 8, 10]])"
      ]
     },
     "execution_count": 68,
     "metadata": {},
     "output_type": "execute_result"
    }
   ],
   "source": [
    "#6. If a dictionary is stored in spam, what is the difference between the expressions 'cat' in spam and 'cat' in spam.values()?\n",
    "\n",
    "#values is \n",
    "span.values()"
   ]
  },
  {
   "cell_type": "code",
   "execution_count": 76,
   "id": "80c06ef9",
   "metadata": {},
   "outputs": [
    {
     "data": {
      "text/plain": [
       "{'cat': [2, 4, 'hello', 6, 8, 10], 'color': 'black'}"
      ]
     },
     "execution_count": 76,
     "metadata": {},
     "output_type": "execute_result"
    }
   ],
   "source": [
    "#7. What is a shortcut for the following code? if 'color' not in spam: spam['color'] = 'black'\n",
    "'color' not in span  \n",
    "span['color'] = 'black'\n",
    "span"
   ]
  },
  {
   "cell_type": "code",
   "execution_count": 80,
   "id": "7a473c26",
   "metadata": {},
   "outputs": [
    {
     "name": "stdout",
     "output_type": "stream",
     "text": [
      "{'cat': [2, 4, 'hello', 6, 8, 10], 'color': 'black'}\n"
     ]
    },
    {
     "data": {
      "text/plain": [
       "'\\npprint is a nicly print a elements of objects\\nin form of indent, size, etc\\n'"
      ]
     },
     "execution_count": 80,
     "metadata": {},
     "output_type": "execute_result"
    }
   ],
   "source": [
    "#8. How do you \"pretty print\" dictionary values using which module and function?\n",
    "import pprint\n",
    "pprint.pprint(span)\n",
    "\"\"\"\n",
    "pprint is a nicly print a elements of objects\n",
    "in form of indent, size, etc\n",
    "\"\"\""
   ]
  },
  {
   "cell_type": "code",
   "execution_count": null,
   "id": "e3a6d5ac",
   "metadata": {},
   "outputs": [],
   "source": []
  },
  {
   "cell_type": "code",
   "execution_count": null,
   "id": "27a2a0de",
   "metadata": {},
   "outputs": [],
   "source": []
  }
 ],
 "metadata": {
  "kernelspec": {
   "display_name": "Python 3 (ipykernel)",
   "language": "python",
   "name": "python3"
  },
  "language_info": {
   "codemirror_mode": {
    "name": "ipython",
    "version": 3
   },
   "file_extension": ".py",
   "mimetype": "text/x-python",
   "name": "python",
   "nbconvert_exporter": "python",
   "pygments_lexer": "ipython3",
   "version": "3.9.7"
  }
 },
 "nbformat": 4,
 "nbformat_minor": 5
}
