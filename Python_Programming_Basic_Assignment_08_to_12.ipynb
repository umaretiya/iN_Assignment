{
  "nbformat": 4,
  "nbformat_minor": 0,
  "metadata": {
    "colab": {
      "name": "Python_Programming Basic  Assignment_08 to 12.ipynb",
      "provenance": [],
      "collapsed_sections": [
        "UxUiTLaEbbmF",
        "hYrbxwmtZ1Jd",
        "FGWBDkz-G8nX",
        "eIYIgP89khsA",
        "Ng3nyO7bkklr",
        "-lpDHgy6kl28",
        "V2j5nNkPknBa",
        "7-a01PVgkozr",
        "oMzLfo0_kq0B",
        "sBvZ0hYyksLp",
        "PVhQaQcMkuYT",
        "O1ZjcNJTkvqi",
        "-BfXb-gckycG",
        "IQ1pIDGIk0KE",
        "M93l3s4Sk2hq",
        "ycHytBG9k32x",
        "TJPJ8ohdk6lI"
      ],
      "authorship_tag": "ABX9TyMNrzxnOdQTiLROBV4m+nvW",
      "include_colab_link": true
    },
    "kernelspec": {
      "name": "python3",
      "display_name": "Python 3"
    },
    "language_info": {
      "name": "python"
    }
  },
  "cells": [
    {
      "cell_type": "markdown",
      "metadata": {
        "id": "view-in-github",
        "colab_type": "text"
      },
      "source": [
        "<a href=\"https://colab.research.google.com/github/umaretiya/iN_Assignment/blob/main/Python_Programming_Basic_Assignment_08_to_12.ipynb\" target=\"_parent\"><img src=\"https://colab.research.google.com/assets/colab-badge.svg\" alt=\"Open In Colab\"/></a>"
      ]
    },
    {
      "cell_type": "markdown",
      "source": [
        "# ***Programming Basic Assignments- 09***"
      ],
      "metadata": {
        "id": "UxUiTLaEbbmF"
      }
    },
    {
      "cell_type": "markdown",
      "source": [
        "***1 Write a Python program to check if the given number is a Disarium Number?***"
      ],
      "metadata": {
        "id": "_xSMT1k3bW6Y"
      }
    },
    {
      "cell_type": "markdown",
      "source": [
        "Disarium Number : d = digit of number \n",
        "if number having a dddd then Disarium Number = $d^1 + d^2 +d^3 + d^4$ = d+d+d+d $"
      ],
      "metadata": {
        "id": "kT7BLiYQcf4O"
      }
    },
    {
      "cell_type": "code",
      "source": [
        "def disarium_number(x1):\n",
        "  y = len(x1)\n",
        "  d = int(x1)\n",
        "  temp = d\n",
        "  sum = 0\n",
        "  while d > 0:  \n",
        "    p1 = d % 10\n",
        "    sum += p1**(y)\n",
        "    d = d//10\n",
        "    y -= 1\n",
        "\n",
        "  if temp == sum:\n",
        "    print('Disarium Number')\n",
        "  else:\n",
        "    print('Number is not a Disarium')\n",
        "  return temp == sum\n",
        "\n",
        "x = input('Enter a natural Number')\n",
        "disarium_number(x)"
      ],
      "metadata": {
        "colab": {
          "base_uri": "https://localhost:8080/"
        },
        "id": "xBGCGq2XcVSa",
        "outputId": "5fe82f4a-d97b-4a66-a678-8852018169b0"
      },
      "execution_count": null,
      "outputs": [
        {
          "output_type": "stream",
          "name": "stdout",
          "text": [
            "Enter a natural Number175\n",
            "Disarium Number\n"
          ]
        },
        {
          "output_type": "execute_result",
          "data": {
            "text/plain": [
              "True"
            ]
          },
          "metadata": {},
          "execution_count": 63
        }
      ]
    },
    {
      "cell_type": "markdown",
      "source": [
        "***2 Write a Python program to print all disarium numbers between 1 to 100?***"
      ],
      "metadata": {
        "id": "jao66PLmuITj"
      }
    },
    {
      "cell_type": "code",
      "execution_count": null,
      "metadata": {
        "colab": {
          "base_uri": "https://localhost:8080/"
        },
        "id": "43teTrD6a8Hs",
        "outputId": "1f671dbc-cf4c-47b8-9385-1825ba4693f1"
      },
      "outputs": [
        {
          "output_type": "execute_result",
          "data": {
            "text/plain": [
              "[1, 2, 3, 4, 5, 6, 7, 8, 9, 89]"
            ]
          },
          "metadata": {},
          "execution_count": 80
        }
      ],
      "source": [
        "l1 = []\n",
        "\n",
        "for i in range(1,101):\n",
        "  y = len(str(i))  \n",
        "  sum = 0\n",
        "  d = i\n",
        "  \n",
        "  while d > 0:\n",
        "    p1 = d % 10\n",
        "    #print(p1)\n",
        "    sum += p1**(y)\n",
        "    d = d//10\n",
        "    y -= 1\n",
        "  if i == sum:\n",
        "    l1.append(i)\n",
        "l1"
      ]
    },
    {
      "cell_type": "markdown",
      "source": [
        "***3 Write a Python program to check if the given number is Happy Number?***"
      ],
      "metadata": {
        "id": "9qf0-zN6zeHJ"
      }
    },
    {
      "cell_type": "markdown",
      "source": [
        "example: \n",
        "Number = 32\n",
        "\n",
        "$3^2+ 2^2 = 13$\n",
        "\n",
        "$1^2 + 3^2 = 10$\n",
        "\n",
        "$1^2 + 0^2 = 1$\n",
        "\n",
        "In this example, we split 32 to get the sum of squares of its digits which forms another number (13), we replace 32 by 13 to continue this cycle until result 1. We found 32 a happy number."
      ],
      "metadata": {
        "id": "9HJO3z6G0BGZ"
      }
    },
    {
      "cell_type": "code",
      "source": [
        "# Function to find square of given numbers digits\n",
        "# sum of all digit of n\n",
        "\n",
        "def numsuqaresum(n):\n",
        "  squaresum = 0\n",
        "  while (n):\n",
        "    squaresum += (n % 10)* (n % 10)\n",
        "    n = int(n / 10)\n",
        "  return squaresum \n",
        "\n",
        "# Function to check a happy number with multiple recursion method used\n",
        "# function wiht while loop for iterating to achieve results \n",
        "\n",
        "def ishappy_number(n):\n",
        "  slow = n\n",
        "  fast = n\n",
        "  while True:\n",
        "    # for one iteration \n",
        "    slow = numsuqaresum(slow)\n",
        "    # for two iteration \n",
        "    fast = numsuqaresum(numsuqaresum(fast))\n",
        "\n",
        "    if slow != fast:\n",
        "      continue\n",
        "    else:\n",
        "      break\n",
        "  # if both numbe derived 1 the return    \n",
        "  return slow == 1\n",
        "\n",
        "# Calling a function to find a happy number\n",
        "\n",
        "n = int(input('Enter to check Happy number or not :'))\n",
        "\n",
        "if ishappy_number(n):\n",
        "  print(n , \"is a Happy number\");\n",
        "else:\n",
        "  print(n , \"is not a Happy number\");"
      ],
      "metadata": {
        "colab": {
          "base_uri": "https://localhost:8080/"
        },
        "id": "s5Lz1vPX0fr7",
        "outputId": "907a5248-949b-4905-cc13-16044df334f1"
      },
      "execution_count": null,
      "outputs": [
        {
          "output_type": "stream",
          "name": "stdout",
          "text": [
            "Enter to check Happy number or not :32\n",
            "32 is a Happy number\n"
          ]
        }
      ]
    },
    {
      "cell_type": "code",
      "source": [
        "# finding a happy number with for loop \n",
        "\n",
        "n = int(input('Enter to check Happy number or not :'))\n",
        "fa = n\n",
        "sa = n\n",
        "for i in range(1,10):\n",
        "  fa = numsuqaresum(fa)\n",
        "  sa = numsuqaresum(numsuqaresum(sa))\n",
        "  # Print function used to just for a learning purpose only\n",
        "  print(f'{fa} and {sa} is ')\n",
        "  if fa == sa:\n",
        "    print(fa)\n",
        "    break\n",
        "  else:\n",
        "    continue\n",
        "    print(sa)\n",
        "\n",
        "# condtion to check 1 if its a happy number\n",
        "if fa == 1 and sa == 1:\n",
        "  print('Given number is happy number: ', n)\n",
        "else:\n",
        "  print('Number is not a happy number')"
      ],
      "metadata": {
        "colab": {
          "base_uri": "https://localhost:8080/"
        },
        "id": "LDKrTf9q4B3q",
        "outputId": "1246d2d3-16d4-42b1-be39-dca63ac34dbb"
      },
      "execution_count": null,
      "outputs": [
        {
          "output_type": "stream",
          "name": "stdout",
          "text": [
            "Enter to check Happy number or not :32\n",
            "13 and 10 is \n",
            "10 and 1 is \n",
            "1 and 1 is \n",
            "1\n",
            "Given number is happy number:  32\n"
          ]
        }
      ]
    },
    {
      "cell_type": "markdown",
      "source": [
        "***4. Write a Python program to print all happy numbers between 1 and 100?***"
      ],
      "metadata": {
        "id": "7uYFiQXLFfUD"
      }
    },
    {
      "cell_type": "code",
      "source": [
        "# cheking happy number from given range\n",
        "# method two !\n",
        "\n",
        "def check_happy(number):\n",
        "    remainder = 0\n",
        "    happy_num = 0\n",
        "    while number > 0:\n",
        "        remainder = number % 10\n",
        "        happy_num += (remainder * remainder)\n",
        "        number = number//10\n",
        "    return happy_num\n",
        "\n",
        "# setting a limit for an interval\n",
        "ll = 1\n",
        "ul = 50\n",
        "print(f\"Happy number from range of {ll} to {ul} \")\n",
        "\n",
        "# iterating a interval instance from sequence\n",
        "for i in range(ll, ul+1):\n",
        "    happy_num = i\n",
        "    while happy_num != 1 and happy_num != 4:\n",
        "        happy_num = check_happy(happy_num)\n",
        "    if happy_num == 1:\n",
        "        print(i, end=' ')\n"
      ],
      "metadata": {
        "id": "rNkf7ya52NAw",
        "colab": {
          "base_uri": "https://localhost:8080/"
        },
        "outputId": "84b371aa-9cf8-4913-962c-88ee1159158a"
      },
      "execution_count": null,
      "outputs": [
        {
          "output_type": "stream",
          "name": "stdout",
          "text": [
            "Happy number from range of 1 to 50 \n",
            "1 7 10 13 19 23 28 31 32 44 49 "
          ]
        }
      ]
    },
    {
      "cell_type": "markdown",
      "source": [
        "***5. Write a Python program to determine whether the given number is a Harshad Number?***\n"
      ],
      "metadata": {
        "id": "nL2LrLnDAiB4"
      }
    },
    {
      "cell_type": "markdown",
      "source": [
        "Example :The number 18 is a harshad number in base 10, because the sum of the digits 1 and 8 is 9 (1 + 8 = 9), and 18 is divisible by 9."
      ],
      "metadata": {
        "id": "UL8zAzxtBUYL"
      }
    },
    {
      "cell_type": "code",
      "source": [
        "# Python program to determine whether the given number is a Harshad Number\n",
        "\n",
        "m = 195\n",
        "n = m  \n",
        "s = 0\n",
        "while n >0:\n",
        "  #print('start',n)\n",
        "  d =  n % 10 # digit last 8\n",
        "  #print('digit ',d)\n",
        "  n = n//10 # second last digit 1\n",
        "  #print('ending',n)\n",
        "  s += d\n",
        "  #print(\"s taken\", s)\n",
        "if m % s == 0:  \n",
        "  print(\"given number is harshad number\", m)"
      ],
      "metadata": {
        "colab": {
          "base_uri": "https://localhost:8080/"
        },
        "id": "QmJsGqKkBotF",
        "outputId": "6bdf64cc-a203-4026-fffe-65c4fd4e4529"
      },
      "execution_count": null,
      "outputs": [
        {
          "output_type": "stream",
          "name": "stdout",
          "text": [
            "given number is harshad number 195\n"
          ]
        }
      ]
    },
    {
      "cell_type": "markdown",
      "source": [
        "***6. Write a Python program to print all pronic numbers between 1 and 100?***"
      ],
      "metadata": {
        "id": "G2FxE5fkAj3t"
      }
    },
    {
      "cell_type": "code",
      "source": [
        "# Python program to print all pronic numbers between 1 and 100\n",
        "\n",
        "harshad_number = []\n",
        "for m in range(1,100):\n",
        "  n = m  \n",
        "  s = 0\n",
        "  while n >0:\n",
        "    #print('start',n)\n",
        "    d =  n % 10 # digit last 8\n",
        "    #print('digit ',d)\n",
        "    n = n//10 # second last digit 1\n",
        "    #print('ending',n)\n",
        "    s += d\n",
        "    #print(\"s taken\", s)\n",
        "  if m % s == 0:\n",
        "    harshad_number.append(m)\n",
        "    #print(\"given number is harshad number\", m)\n",
        "print(harshad_number)\n",
        "\n",
        "  "
      ],
      "metadata": {
        "id": "b76GqS5yg3O3",
        "colab": {
          "base_uri": "https://localhost:8080/"
        },
        "outputId": "ff202910-a5ba-4ddb-b8cb-4aaeb0f21559"
      },
      "execution_count": null,
      "outputs": [
        {
          "output_type": "stream",
          "name": "stdout",
          "text": [
            "[1, 2, 3, 4, 5, 6, 7, 8, 9, 10, 12, 18, 20, 21, 24, 27, 30, 36, 40, 42, 45, 48, 50, 54, 60, 63, 70, 72, 80, 81, 84, 90]\n"
          ]
        }
      ]
    },
    {
      "cell_type": "markdown",
      "source": [
        "# ***Programming Basic Assignments- 10***"
      ],
      "metadata": {
        "id": "hYrbxwmtZ1Jd"
      }
    },
    {
      "cell_type": "markdown",
      "source": [
        "***1. Write a Python program to find sum of elements in list?***"
      ],
      "metadata": {
        "id": "AjvlijH5Frz5"
      }
    },
    {
      "cell_type": "code",
      "source": [
        "# reduce function tips\n",
        "from functools import reduce\n",
        "\n",
        "def sum_list(x,y):\n",
        "  return x+y\n",
        "l = [1,4,6,7,8,2,3,5,10]\n",
        "\n",
        "# Sum of elemetns in list is : y\n",
        "y = reduce(sum_list, l)"
      ],
      "metadata": {
        "id": "22d_FknaGRBC"
      },
      "execution_count": null,
      "outputs": []
    },
    {
      "cell_type": "markdown",
      "source": [
        "***2. Write a Python program to Multiply all numbers in the list?***\n"
      ],
      "metadata": {
        "id": "hq81si2kFwjR"
      }
    },
    {
      "cell_type": "code",
      "source": [
        "# reduce function tips\n",
        "def mul_list(x, y):\n",
        "  return x*y\n",
        "\n",
        "l = [1,4,6,7,8,2,3,5,10]\n",
        "# multiplication of Eliments of list is : y\n",
        "y = reduce(mul_list, l)\n",
        "y\n"
      ],
      "metadata": {
        "id": "S2QTduTfo7nA",
        "colab": {
          "base_uri": "https://localhost:8080/"
        },
        "outputId": "42a8c83a-4a3d-488a-90ed-cb5bcad15bbb"
      },
      "execution_count": null,
      "outputs": [
        {
          "output_type": "execute_result",
          "data": {
            "text/plain": [
              "403200"
            ]
          },
          "metadata": {},
          "execution_count": 7
        }
      ]
    },
    {
      "cell_type": "markdown",
      "source": [
        "***3. Write a Python program to find smallest number in a list?***\n"
      ],
      "metadata": {
        "id": "fbXuGCGwF0Oy"
      }
    },
    {
      "cell_type": "code",
      "source": [
        "# filter function tips\n",
        "# 01. Method\n",
        "\n",
        "l1 =  [17, 53, 46, 8, 71]\n",
        "#min(l1) # smalles number in a list:\n",
        "\n",
        "# 02. Method to find Smallest number\n",
        "l1.sort()\n",
        "l1[0]\n",
        "\n",
        "# 03. Method to find smalles number from list\n",
        "# creating a list:\n",
        "\n",
        "list_01 = []\n",
        "elements_count = int(input(\"How many elemnts in list ? : \"))\n",
        "\n",
        "for i in range(elements_count):\n",
        "  list_01.append(int(input()))\n",
        "\n",
        "print(list_01)\n",
        "\n",
        "min = list_01[0]\n",
        "\n",
        "for j in range(len(list_01)):\n",
        "  if list_01[j] < min:\n",
        "    min = list_01[j]\n",
        "print(min)\n",
        "\n",
        "  "
      ],
      "metadata": {
        "id": "a4zEysuCo7YZ",
        "colab": {
          "base_uri": "https://localhost:8080/"
        },
        "outputId": "a1f0e400-0302-4b93-9d23-dd2c42e3a879"
      },
      "execution_count": null,
      "outputs": [
        {
          "output_type": "stream",
          "name": "stdout",
          "text": [
            "How many elemnts in list ? : 7\n",
            "98\n",
            "76\n",
            "84\n",
            "5\n",
            "35\n",
            "78\n",
            "54\n",
            "[98, 76, 84, 5, 35, 78, 54]\n",
            "5\n"
          ]
        }
      ]
    },
    {
      "cell_type": "markdown",
      "source": [
        "***4. Write a Python program to find largest number in a list?***\n"
      ],
      "metadata": {
        "id": "oupVrIVTF3TT"
      }
    },
    {
      "cell_type": "code",
      "source": [
        "# filter function tips\n",
        "list_01\n",
        "max = list_01[3]\n",
        "\n",
        "for i in range(len(list_01)):\n",
        "  if list_01[i] > max:\n",
        "    max = list_01[i]\n",
        "print(max)\n",
        "\n",
        "print(list_01.sort())\n",
        "list_01[-1]\n"
      ],
      "metadata": {
        "id": "DmkDIFuaGXqX",
        "colab": {
          "base_uri": "https://localhost:8080/"
        },
        "outputId": "3b52632e-0eb1-4a71-8475-6910e09110ad"
      },
      "execution_count": null,
      "outputs": [
        {
          "output_type": "stream",
          "name": "stdout",
          "text": [
            "98\n",
            "None\n"
          ]
        },
        {
          "output_type": "execute_result",
          "data": {
            "text/plain": [
              "98"
            ]
          },
          "metadata": {},
          "execution_count": 30
        }
      ]
    },
    {
      "cell_type": "markdown",
      "source": [
        "***5. Write a Python program to find second largest number in a list?***\n"
      ],
      "metadata": {
        "id": "Vnz4sF16F6EQ"
      }
    },
    {
      "cell_type": "code",
      "source": [
        "l1 =  [17, 53, 46, 8, 71]\n",
        "\n",
        "largest = l1[0]\n",
        "second_largest = l1[0]\n",
        "\n",
        "for i in range(len(l1)):\n",
        "  if l1[i] > largest:\n",
        "    largest = l1[i]\n",
        "\n",
        "for i in range(len(l1)):\n",
        "  if l1[i] > second_largest and l1[i] != largest:\n",
        "    second_largest = l1[i]\n",
        "\n",
        "print(largest)\n",
        "print(second_largest)"
      ],
      "metadata": {
        "id": "uqtK193ZGYlA",
        "colab": {
          "base_uri": "https://localhost:8080/"
        },
        "outputId": "dd779fa8-5586-463a-c561-043a2bd493c9"
      },
      "execution_count": null,
      "outputs": [
        {
          "output_type": "stream",
          "name": "stdout",
          "text": [
            "71\n",
            "53\n"
          ]
        }
      ]
    },
    {
      "cell_type": "markdown",
      "source": [
        "***6. Write a Python program to find N largest elements from a list?***\n"
      ],
      "metadata": {
        "id": "t9spLoK4F8gS"
      }
    },
    {
      "cell_type": "code",
      "source": [
        "lx = [1000,298,3579,100,200,-45,900]\n",
        "N = 3\n",
        "\n",
        "# Method one for finding N=3 largest elements in list\n",
        "lx.sort()\n",
        "lx[-3:]\n",
        "\n",
        "# second Methon\n",
        "\n",
        "def NmaxElement(lst, N):\n",
        "  final_list = []\n",
        "  for i in range(0, N):\n",
        "    max1 = 0\n",
        "\n",
        "    for j in range(len(lst)):\n",
        "      if lst[j] > max1:\n",
        "        max1 = lst[j]\n",
        "\n",
        "    lst.remove(max1)\n",
        "    final_list.append(max1)\n",
        "  return final_list\n",
        "\n",
        "lnx = [1000,298,3579,100,200,-45,900]\n",
        "N = 3\n",
        "NmaxElement(lnx, 3)"
      ],
      "metadata": {
        "id": "LAc-Zuo0GZAh",
        "colab": {
          "base_uri": "https://localhost:8080/"
        },
        "outputId": "332cedce-fb7b-480d-db34-5d40fc325baa"
      },
      "execution_count": null,
      "outputs": [
        {
          "output_type": "execute_result",
          "data": {
            "text/plain": [
              "[3579, 1000, 900]"
            ]
          },
          "metadata": {},
          "execution_count": 13
        }
      ]
    },
    {
      "cell_type": "markdown",
      "source": [
        "***7. Write a Python program to print even numbers in a list?***\n"
      ],
      "metadata": {
        "id": "mrrXrNwcGAMT"
      }
    },
    {
      "cell_type": "code",
      "source": [
        "# filter function tips\n",
        "# even number\n",
        "\n",
        "def even(x):\n",
        "  return x % 2 == 0\n",
        "l = [2,5,7,8,23,34,12,65,78,45,31,65,90,44]\n",
        "\n",
        "even_num = list(filter(even, l))\n",
        "final = []\n",
        "for i in even_num:\n",
        "  final.append(i)\n",
        "final"
      ],
      "metadata": {
        "colab": {
          "base_uri": "https://localhost:8080/"
        },
        "id": "pSlVWXB4GaYW",
        "outputId": "2a70d9a4-ecf0-423a-ca35-3328e6627155"
      },
      "execution_count": null,
      "outputs": [
        {
          "output_type": "execute_result",
          "data": {
            "text/plain": [
              "[2, 8, 34, 12, 78, 90, 44]"
            ]
          },
          "metadata": {},
          "execution_count": 31
        }
      ]
    },
    {
      "cell_type": "markdown",
      "source": [
        "***8. Write a Python program to print odd numbers in a List?***\n"
      ],
      "metadata": {
        "id": "TtQQ5QwRGDI0"
      }
    },
    {
      "cell_type": "code",
      "source": [
        "# filter function tips\n",
        "# odd number\n",
        "\n",
        "def odd(x):\n",
        "  return x % 2 != 0\n",
        "l = [2,5,7,8,23,34,12,65,78,45,31,65,90,44]\n",
        "\n",
        "odd_num = list(filter(odd, l))\n",
        "final = []\n",
        "for i in odd_num:\n",
        "  final.append(i)\n",
        "final"
      ],
      "metadata": {
        "colab": {
          "base_uri": "https://localhost:8080/"
        },
        "id": "Ndz9Q_9EGcMd",
        "outputId": "dff9c7ae-9efc-4b62-d198-b20da1216cd4"
      },
      "execution_count": null,
      "outputs": [
        {
          "output_type": "execute_result",
          "data": {
            "text/plain": [
              "[5, 7, 23, 65, 45, 31, 65]"
            ]
          },
          "metadata": {},
          "execution_count": 32
        }
      ]
    },
    {
      "cell_type": "markdown",
      "source": [
        "***9. Write a Python program to Remove empty List from List?***\n"
      ],
      "metadata": {
        "id": "HzWe3517GFpk"
      }
    },
    {
      "cell_type": "code",
      "source": [
        "el = [10,20,[],\"kesh\",[2,'hi'],[ ], 70]\n",
        "m = []\n",
        "len(m)\n",
        "\n",
        "for i in el:\n",
        "  if type(i) == list: # filtering elements type is list\n",
        "    if len(i) == 0:  # filtering empty list form list\n",
        "      el.remove(i)  # removing elemnts from list\n",
        "print(el)\n"
      ],
      "metadata": {
        "id": "aMfT5DusGbOp",
        "colab": {
          "base_uri": "https://localhost:8080/"
        },
        "outputId": "67847980-251b-4a92-a1d4-b335e1dec25f"
      },
      "execution_count": null,
      "outputs": [
        {
          "output_type": "stream",
          "name": "stdout",
          "text": [
            "[10, 20, 'kesh', [2, 'hi'], 70]\n"
          ]
        }
      ]
    },
    {
      "cell_type": "markdown",
      "source": [
        "***10. Write a Python program to Cloning or Copying a list?***\n"
      ],
      "metadata": {
        "id": "m1jSDF1OGIWG"
      }
    },
    {
      "cell_type": "code",
      "source": [
        "# Cloning or Copying a list:\n",
        "# Method one \n",
        "\n",
        "def clon(list):\n",
        "  clon_list = list[:]\n",
        "  return clon_list\n",
        "\n",
        "# Method two\n",
        "def clon_2(list):\n",
        "  clon_list = []\n",
        "  clon_list.extend(list)\n",
        "  return clon_list\n",
        "\n",
        "# Third Method\n",
        "def clon_3(list):\n",
        "  clon_list = [i for i in list]\n",
        "  return clon_list\n",
        "\n",
        "# Fourth Method\n",
        "def clon_4(list):\n",
        "  clon_copy = list.copy()\n",
        "  return clon_copy"
      ],
      "metadata": {
        "id": "E8jzPXgbGdX_"
      },
      "execution_count": null,
      "outputs": []
    },
    {
      "cell_type": "markdown",
      "source": [
        "***11. Write a Python program to Count occurrences of an element in a list?***"
      ],
      "metadata": {
        "id": "-hZPwrCIGK0w"
      }
    },
    {
      "cell_type": "code",
      "source": [
        "# counter function tips\n",
        "occur = [2,5,2,7,8,8,23,34,12,65,65,65,78,45,5,5,5,31,65,90,44]\n",
        "\n",
        "def occurence(list, n):\n",
        "  count = 0\n",
        "  for i in occur:\n",
        "    if i == n:\n",
        "      count += 1\n",
        "  return f\"{n} is occurence {count} times\"\n",
        "\n",
        "n = 8\n",
        "occurence(occur, n)  # calling function"
      ],
      "metadata": {
        "id": "VyEQGzLMGdzi",
        "colab": {
          "base_uri": "https://localhost:8080/",
          "height": 35
        },
        "outputId": "e2992c9c-ed44-460d-bf40-2d57404d5c9b"
      },
      "execution_count": null,
      "outputs": [
        {
          "output_type": "execute_result",
          "data": {
            "application/vnd.google.colaboratory.intrinsic+json": {
              "type": "string"
            },
            "text/plain": [
              "'8 is occurence 2 times'"
            ]
          },
          "metadata": {},
          "execution_count": 31
        }
      ]
    }
  ]
}