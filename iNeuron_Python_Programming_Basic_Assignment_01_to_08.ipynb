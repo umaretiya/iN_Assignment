{
  "cells": [
    {
      "cell_type": "markdown",
      "metadata": {
        "id": "view-in-github",
        "colab_type": "text"
      },
      "source": [
        "<a href=\"https://colab.research.google.com/github/umaretiya/iN_Assignment/blob/main/iNeuron_Python_Programming_Basic_Assignment_01_to_08.ipynb\" target=\"_parent\"><img src=\"https://colab.research.google.com/assets/colab-badge.svg\" alt=\"Open In Colab\"/></a>"
      ]
    },
    {
      "cell_type": "markdown",
      "metadata": {
        "id": "LU9jU_1oIAIK"
      },
      "source": [
        "#Programming_Assingment-01#"
      ]
    },
    {
      "cell_type": "code",
      "execution_count": null,
      "metadata": {
        "colab": {
          "base_uri": "https://localhost:8080/"
        },
        "id": "-cU3se0IHcO5",
        "outputId": "cfe19068-0019-40cd-bca8-31a02bac1640"
      },
      "outputs": [
        {
          "name": "stdout",
          "output_type": "stream",
          "text": [
            "Hello Python\n"
          ]
        }
      ],
      "source": [
        "#Write a Python program to print \"Hello Python\"?\n",
        "print('Hello Python')"
      ]
    },
    {
      "cell_type": "code",
      "execution_count": null,
      "metadata": {
        "colab": {
          "base_uri": "https://localhost:8080/"
        },
        "id": "77grSjobI9XT",
        "outputId": "8c2c8b14-bf6c-4ef7-e14b-044ec8505b4a"
      },
      "outputs": [
        {
          "name": "stdout",
          "output_type": "stream",
          "text": [
            "True\n",
            "True\n",
            "30\n",
            "10\n",
            "2.0\n"
          ]
        }
      ],
      "source": [
        "#Write a Python program to do arithmetical operations addition and division.?\n",
        "print(20 + 10 ==30)\n",
        "print(20/10 == 2)\n",
        "print(20+10)\n",
        "print(30-20)\n",
        "print(20/10)"
      ]
    },
    {
      "cell_type": "code",
      "execution_count": null,
      "metadata": {
        "colab": {
          "base_uri": "https://localhost:8080/"
        },
        "id": "-6Yb9ZWPI9FN",
        "outputId": "d2a0b7f2-7209-4d81-a33b-432da3ae2fbc"
      },
      "outputs": [
        {
          "name": "stdout",
          "output_type": "stream",
          "text": [
            "15.0\n"
          ]
        }
      ],
      "source": [
        "#Write a Python program to find the area of a triangle?\n",
        "heightFromBase= h=6\n",
        "base = b=5\n",
        "areaOfTriangle  = h*b/2\n",
        "print(areaOfTriangle)"
      ]
    },
    {
      "cell_type": "code",
      "execution_count": null,
      "metadata": {
        "colab": {
          "base_uri": "https://localhost:8080/"
        },
        "id": "CCiL-cANI86N",
        "outputId": "712c1e61-2432-47f5-b211-5c45cb0d628f"
      },
      "outputs": [
        {
          "data": {
            "text/plain": [
              "(9, 5)"
            ]
          },
          "execution_count": 4,
          "metadata": {},
          "output_type": "execute_result"
        }
      ],
      "source": [
        "#Write a Python program to swap two variables?\n",
        "a,b = 5,9\n",
        "c=a\n",
        "a=b\n",
        "b=c\n",
        "a,b\n"
      ]
    },
    {
      "cell_type": "code",
      "execution_count": null,
      "metadata": {
        "colab": {
          "base_uri": "https://localhost:8080/"
        },
        "id": "pL_tzZe6JDcz",
        "outputId": "d0229f38-18b6-4c35-bf0e-5e4773e4d44d"
      },
      "outputs": [
        {
          "data": {
            "text/plain": [
              "96"
            ]
          },
          "execution_count": 5,
          "metadata": {},
          "output_type": "execute_result"
        }
      ],
      "source": [
        "#Write a Python program to generate a random number?\n",
        "import random\n",
        "from random import randint\n",
        "\n",
        "random.randint(50,100)"
      ]
    },
    {
      "cell_type": "markdown",
      "metadata": {
        "id": "EwLSYSZgLRlD"
      },
      "source": [
        "#Programming_Assingment-02#"
      ]
    },
    {
      "cell_type": "code",
      "execution_count": null,
      "metadata": {
        "colab": {
          "base_uri": "https://localhost:8080/"
        },
        "id": "TpcSdPpzL3Nw",
        "outputId": "435f1773-890f-4163-fc88-8649fb20a881"
      },
      "outputs": [
        {
          "data": {
            "text/plain": [
              "1.242742"
            ]
          },
          "execution_count": 21,
          "metadata": {},
          "output_type": "execute_result"
        }
      ],
      "source": [
        "#Write a Python program to convert kilometers to miles?\n",
        "# 1 KM = 0.621371 mile\n",
        "km = 2\n",
        "mile  = km*0.621371\n",
        "mile "
      ]
    },
    {
      "cell_type": "code",
      "execution_count": null,
      "metadata": {
        "colab": {
          "base_uri": "https://localhost:8080/"
        },
        "id": "7ryb4cdsL3Eb",
        "outputId": "f3ee6e10-5474-4afd-9a36-8f7245f882bc"
      },
      "outputs": [
        {
          "data": {
            "text/plain": [
              "102.2"
            ]
          },
          "execution_count": 27,
          "metadata": {},
          "output_type": "execute_result"
        }
      ],
      "source": [
        "#Write a Python program to convert Celsius to Fahrenheit?\n",
        "#(0°C × 9/5) + 32 = 32°F\n",
        "celseus  = 39\n",
        "Fahrenheit = celseus*(9/5) +32\n",
        "Fahrenheit"
      ]
    },
    {
      "cell_type": "code",
      "execution_count": null,
      "metadata": {
        "colab": {
          "base_uri": "https://localhost:8080/"
        },
        "id": "FUaxwULCL2_O",
        "outputId": "e76d60f9-361f-410d-a1bd-b4f3e699acfc"
      },
      "outputs": [
        {
          "name": "stdout",
          "output_type": "stream",
          "text": [
            "                                  2021\n",
            "\n",
            "      January                   February                   March\n",
            "Mo Tu We Th Fr Sa Su      Mo Tu We Th Fr Sa Su      Mo Tu We Th Fr Sa Su\n",
            "             1  2  3       1  2  3  4  5  6  7       1  2  3  4  5  6  7\n",
            " 4  5  6  7  8  9 10       8  9 10 11 12 13 14       8  9 10 11 12 13 14\n",
            "11 12 13 14 15 16 17      15 16 17 18 19 20 21      15 16 17 18 19 20 21\n",
            "18 19 20 21 22 23 24      22 23 24 25 26 27 28      22 23 24 25 26 27 28\n",
            "25 26 27 28 29 30 31                                29 30 31\n",
            "\n",
            "       April                      May                       June\n",
            "Mo Tu We Th Fr Sa Su      Mo Tu We Th Fr Sa Su      Mo Tu We Th Fr Sa Su\n",
            "          1  2  3  4                      1  2          1  2  3  4  5  6\n",
            " 5  6  7  8  9 10 11       3  4  5  6  7  8  9       7  8  9 10 11 12 13\n",
            "12 13 14 15 16 17 18      10 11 12 13 14 15 16      14 15 16 17 18 19 20\n",
            "19 20 21 22 23 24 25      17 18 19 20 21 22 23      21 22 23 24 25 26 27\n",
            "26 27 28 29 30            24 25 26 27 28 29 30      28 29 30\n",
            "                          31\n",
            "\n",
            "        July                     August                  September\n",
            "Mo Tu We Th Fr Sa Su      Mo Tu We Th Fr Sa Su      Mo Tu We Th Fr Sa Su\n",
            "          1  2  3  4                         1             1  2  3  4  5\n",
            " 5  6  7  8  9 10 11       2  3  4  5  6  7  8       6  7  8  9 10 11 12\n",
            "12 13 14 15 16 17 18       9 10 11 12 13 14 15      13 14 15 16 17 18 19\n",
            "19 20 21 22 23 24 25      16 17 18 19 20 21 22      20 21 22 23 24 25 26\n",
            "26 27 28 29 30 31         23 24 25 26 27 28 29      27 28 29 30\n",
            "                          30 31\n",
            "\n",
            "      October                   November                  December\n",
            "Mo Tu We Th Fr Sa Su      Mo Tu We Th Fr Sa Su      Mo Tu We Th Fr Sa Su\n",
            "             1  2  3       1  2  3  4  5  6  7             1  2  3  4  5\n",
            " 4  5  6  7  8  9 10       8  9 10 11 12 13 14       6  7  8  9 10 11 12\n",
            "11 12 13 14 15 16 17      15 16 17 18 19 20 21      13 14 15 16 17 18 19\n",
            "18 19 20 21 22 23 24      22 23 24 25 26 27 28      20 21 22 23 24 25 26\n",
            "25 26 27 28 29 30 31      29 30                     27 28 29 30 31\n",
            "\n"
          ]
        }
      ],
      "source": [
        "#Write a Python program to display calendar?\n",
        "import datetime\n",
        "import calendar\n",
        "yy = 2021\n",
        "print(calendar.calendar(yy))"
      ]
    },
    {
      "cell_type": "code",
      "execution_count": null,
      "metadata": {
        "colab": {
          "base_uri": "https://localhost:8080/"
        },
        "id": "DXgGotRyL2oz",
        "outputId": "b7ee0f54-91ef-4b9e-90a8-9231e7aefa67"
      },
      "outputs": [
        {
          "data": {
            "text/plain": [
              "((-0.33333333333333326+1.1055415967851332j),\n",
              " (-0.3333333333333334-1.1055415967851332j))"
            ]
          },
          "execution_count": 39,
          "metadata": {},
          "output_type": "execute_result"
        }
      ],
      "source": [
        "#Write a Python program to solve quadratic equation?\n",
        "import math\n",
        "# quadratic equation is ax^2+bx+c=0\n",
        "# (-b±√(b²-4ac))/(2a) \n",
        "a,b,c = 3,2,4\n",
        "\n",
        "x1 = (-b+((b**2 - 4*a*c)**(1/2)))/(2*a)\n",
        "x2 = (-b-((b**2 - 4*a*c)**(1/2)))/(2*a)\n",
        "x1,x2 #is soluttions "
      ]
    },
    {
      "cell_type": "code",
      "execution_count": null,
      "metadata": {
        "colab": {
          "base_uri": "https://localhost:8080/"
        },
        "id": "aWQHofNOP_kS",
        "outputId": "8a801356-cd37-4a10-e74d-dea6a16d84d9"
      },
      "outputs": [
        {
          "data": {
            "text/plain": [
              "(60, 40)"
            ]
          },
          "execution_count": 47,
          "metadata": {},
          "output_type": "execute_result"
        }
      ],
      "source": [
        "#Write a Python program to swap two variables without temp variable?\n",
        "a,b =40,60\n",
        "\n",
        "\n",
        "b=a+b #b=30\n",
        "a=b-a # a= 20\n",
        "b=b-a # b=10\n",
        "\n",
        "a,b"
      ]
    },
    {
      "cell_type": "markdown",
      "metadata": {
        "id": "trotW0ssRfo1"
      },
      "source": [
        "#Programming_Assingment-03#"
      ]
    },
    {
      "cell_type": "code",
      "execution_count": null,
      "metadata": {
        "colab": {
          "base_uri": "https://localhost:8080/"
        },
        "id": "CiR7ElqTRmDR",
        "outputId": "30437099-e013-4704-fb8e-242e7490d633"
      },
      "outputs": [
        {
          "name": "stdout",
          "output_type": "stream",
          "text": [
            "2,3,5,7,11,13,17,19,23,29,31,37,41,43,47,53,59,61,67,71,73,79,83,89,97,101,103,107,109,113,127,131,137,139,149,151,157,163,167,173,179,181,191,193,197,199,211,223,227,229,233,239,241,251,257,263,269,271,277,281,283,293,307,311,313,317,331,337,347,349,353,359,367,373,379,383,389,397,401,409,419,421,431,433,439,443,449,457,461,463,467,479,487,491,499,503,509,521,523,541,547,557,563,569,571,577,587,593,599,601,607,613,617,619,631,641,643,647,653,659,661,673,677,683,691,701,709,719,727,733,739,743,751,757,761,769,773,787,797,809,811,821,823,827,829,839,853,857,859,863,877,881,883,887,907,911,919,929,937,941,947,953,967,971,977,983,991,997,1009,1013,1019,1021,1031,1033,1039,1049,1051,1061,1063,1069,1087,1091,1093,1097,1103,1109,1117,1123,1129,1151,1153,1163,1171,1181,1187,1193,1201,1213,1217,1223,1229,1231,1237,1249,1259,1277,1279,1283,1289,1291,1297,1301,1303,1307,1319,1321,1327,1361,1367,1373,1381,1399,1409,1423,1427,1429,1433,1439,1447,1451,1453,1459,1471,1481,1483,1487,1489,1493,1499,1511,1523,1531,1543,1549,1553,1559,1567,1571,1579,1583,1597,1601,1607,1609,1613,1619,1621,1627,1637,1657,1663,1667,1669,1693,1697,1699,1709,1721,1723,1733,1741,1747,1753,1759,1777,1783,1787,1789,1801,1811,1823,1831,1847,1861,1867,1871,1873,1877,1879,1889,1901,1907,1913,1931,1933,1949,1951,1973,1979,1987,1993,1997,1999,2003,2011,2017,2027,2029,2039,2053,2063,2069,2081,2083,2087,2089,2099,2111,2113,2129,2131,2137,2141,2143,2153,2161,2179,2203,2207,2213,2221,2237,2239,2243,2251,2267,2269,2273,2281,2287,2293,2297,2309,2311,2333,2339,2341,2347,2351,2357,2371,2377,2381,2383,2389,2393,2399,2411,2417,2423,2437,2441,2447,2459,2467,2473,2477,2503,2521,2531,2539,2543,2549,2551,2557,2579,2591,2593,2609,2617,2621,2633,2647,2657,2659,2663,2671,2677,2683,2687,2689,2693,2699,2707,2711,2713,2719,2729,2731,2741,2749,2753,2767,2777,2789,2791,2797,2801,2803,2819,2833,2837,2843,2851,2857,2861,2879,2887,2897,2903,2909,2917,2927,2939,2953,2957,2963,2969,2971,2999,3001,3011,3019,3023,3037,3041,3049,3061,3067,3079,3083,3089,3109,3119,3121,3137,3163,3167,3169,3181,3187,3191,3203,3209,3217,3221,3229,3251,3253,3257,3259,3271,3299,3301,3307,3313,3319,3323,3329,3331,3343,3347,3359,3361,3371,3373,3389,3391,3407,3413,3433,3449,3457,3461,3463,3467,3469,3491,3499,3511,3517,3527,3529,3533,3539,3541,3547,3557,3559,3571,3581,3583,3593,3607,3613,3617,3623,3631,3637,3643,3659,3671,3673,3677,3691,3697,3701,3709,3719,3727,3733,3739,3761,3767,3769,3779,3793,3797,3803,3821,3823,3833,3847,3851,3853,3863,3877,3881,3889,3907,3911,3917,3919,3923,3929,3931,3943,3947,3967,3989,4001,4003,4007,4013,4019,4021,4027,4049,4051,4057,4073,4079,4091,4093,4099,4111,4127,4129,4133,4139,4153,4157,4159,4177,4201,4211,4217,4219,4229,4231,4241,4243,4253,4259,4261,4271,4273,4283,4289,4297,4327,4337,4339,4349,4357,4363,4373,4391,4397,4409,4421,4423,4441,4447,4451,4457,4463,4481,4483,4493,4507,4513,4517,4519,4523,4547,4549,4561,4567,4583,4591,4597,4603,4621,4637,4639,4643,4649,4651,4657,4663,4673,4679,4691,4703,4721,4723,4729,4733,4751,4759,4783,4787,4789,4793,4799,4801,4813,4817,4831,4861,4871,4877,4889,4903,4909,4919,4931,4933,4937,4943,4951,4957,4967,4969,4973,4987,4993,4999,5003,5009,5011,5021,5023,5039,5051,5059,5077,5081,5087,5099,5101,5107,5113,5119,5147,5153,5167,5171,5179,5189,5197,5209,5227,5231,5233,5237,5261,5273,5279,5281,5297,5303,5309,5323,5333,5347,5351,5381,5387,5393,5399,5407,5413,5417,5419,5431,5437,5441,5443,5449,5471,5477,5479,5483,5501,5503,5507,5519,5521,5527,5531,5557,5563,5569,5573,5581,5591,5623,5639,5641,5647,5651,5653,5657,5659,5669,5683,5689,5693,5701,5711,5717,5737,5741,5743,5749,5779,5783,5791,5801,5807,5813,5821,5827,5839,5843,5849,5851,5857,5861,5867,5869,5879,5881,5897,5903,5923,5927,5939,5953,5981,5987,6007,6011,6029,6037,6043,6047,6053,6067,6073,6079,6089,6091,6101,6113,6121,6131,6133,6143,6151,6163,6173,6197,6199,6203,6211,6217,6221,6229,6247,6257,6263,6269,6271,6277,6287,6299,6301,6311,6317,6323,6329,6337,6343,6353,6359,6361,6367,6373,6379,6389,6397,6421,6427,6449,6451,6469,6473,6481,6491,6521,6529,6547,6551,6553,6563,6569,6571,6577,6581,6599,6607,6619,6637,6653,6659,6661,6673,6679,6689,6691,6701,6703,6709,6719,6733,6737,6761,6763,6779,6781,6791,6793,6803,6823,6827,6829,6833,6841,6857,6863,6869,6871,6883,6899,6907,6911,6917,6947,6949,6959,6961,6967,6971,6977,6983,6991,6997,7001,7013,7019,7027,7039,7043,7057,7069,7079,7103,7109,7121,7127,7129,7151,7159,7177,7187,7193,7207,7211,7213,7219,7229,7237,7243,7247,7253,7283,7297,7307,7309,7321,7331,7333,7349,7351,7369,7393,7411,7417,7433,7451,7457,7459,7477,7481,7487,7489,7499,7507,7517,7523,7529,7537,7541,7547,7549,7559,7561,7573,7577,7583,7589,7591,7603,7607,7621,7639,7643,7649,7669,7673,7681,7687,7691,7699,7703,7717,7723,7727,7741,7753,7757,7759,7789,7793,7817,7823,7829,7841,7853,7867,7873,7877,7879,7883,7901,7907,7919,7927,7933,7937,7949,7951,7963,7993,8009,8011,8017,8039,8053,8059,8069,8081,8087,8089,8093,8101,8111,8117,8123,8147,8161,8167,8171,8179,8191,8209,8219,8221,8231,8233,8237,8243,8263,8269,8273,8287,8291,8293,8297,8311,8317,8329,8353,8363,8369,8377,8387,8389,8419,8423,8429,8431,8443,8447,8461,8467,8501,8513,8521,8527,8537,8539,8543,8563,8573,8581,8597,8599,8609,8623,8627,8629,8641,8647,8663,8669,8677,8681,8689,8693,8699,8707,8713,8719,8731,8737,8741,8747,8753,8761,8779,8783,8803,8807,8819,8821,8831,8837,8839,8849,8861,8863,8867,8887,8893,8923,8929,8933,8941,8951,8963,8969,8971,8999,9001,9007,9011,9013,9029,9041,9043,9049,9059,9067,9091,9103,9109,9127,9133,9137,9151,9157,9161,9173,9181,9187,9199,9203,9209,9221,9227,9239,9241,9257,9277,9281,9283,9293,9311,9319,9323,9337,9341,9343,9349,9371,9377,9391,9397,9403,9413,9419,9421,9431,9433,9437,9439,9461,9463,9467,9473,9479,9491,9497,9511,9521,9533,9539,9547,9551,9587,9601,9613,9619,9623,9629,9631,9643,9649,9661,9677,9679,9689,9697,9719,9721,9733,9739,9743,9749,9767,9769,9781,9787,9791,9803,9811,9817,9829,9833,9839,9851,9857,9859,9871,9883,9887,9901,9907,9923,9929,9931,9941,9949,9967,9973,"
          ]
        }
      ],
      "source": [
        "\"\"\"Write a Python Program to Print all Prime Numbers in an Interval of 1-10000?\"\"\"\n",
        "\n",
        "for Number in range (1, 10000):\n",
        "  count = 0\n",
        "  for i in range(2, (Number//2 +1)):\n",
        "    if Number % i == 0:\n",
        "      count = count +1\n",
        "      break\n",
        "  if count == 0 and Number != 1:\n",
        "    print(Number, end=',')\n"
      ]
    },
    {
      "cell_type": "code",
      "execution_count": null,
      "metadata": {
        "colab": {
          "base_uri": "https://localhost:8080/"
        },
        "id": "jkpsxjroRl8f",
        "outputId": "7a433d72-eacb-4dc1-f846-12e4ac5859cf"
      },
      "outputs": [
        {
          "name": "stdout",
          "output_type": "stream",
          "text": [
            "Check if a Number is Positive, Negative or Zero?: 0\n",
            "0 is Zero\n"
          ]
        }
      ],
      "source": [
        "#Write a Python Program to Check if a Number is Positive, Negative or Zero?\n",
        "\n",
        "number = int(input('Check if a Number is Positive, Negative or Zero?: '))\n",
        "\n",
        "if number > 0:\n",
        "  print(f\"{number} is postive\")\n",
        "elif number < 0:\n",
        "  print(f\"{number} is negative\")\n",
        "else:\n",
        "  print(f\"{number} is Zero\")"
      ]
    },
    {
      "cell_type": "code",
      "execution_count": null,
      "metadata": {
        "colab": {
          "base_uri": "https://localhost:8080/"
        },
        "id": "N3acokuWRlv2",
        "outputId": "c7527f88-9157-424a-956a-6b9d7d129521"
      },
      "outputs": [
        {
          "name": "stdout",
          "output_type": "stream",
          "text": [
            "Check if a Number is Odd or Even?: 20\n",
            "20 is even number\n"
          ]
        }
      ],
      "source": [
        "#Write a Python Program to Check if a Number is Odd or Even?\n",
        "number = int(input('Check if a Number is Odd or Even?: '))\n",
        "\n",
        "if number%2 == 0:\n",
        "  print(f\"{number} is even number\")\n",
        "else:\n",
        "  print(f\"{number} is odd number\")"
      ]
    },
    {
      "cell_type": "code",
      "execution_count": null,
      "metadata": {
        "colab": {
          "base_uri": "https://localhost:8080/"
        },
        "id": "Odlm-e6eQGJy",
        "outputId": "d1554627-4821-4753-d98f-6fc3f826535b"
      },
      "outputs": [
        {
          "name": "stdout",
          "output_type": "stream",
          "text": [
            "Leap Year or not?: 2000\n",
            "2000 is a leap year\n"
          ]
        }
      ],
      "source": [
        "#Write a Python Program to Check Leap Year?\n",
        "year = int(input('Leap Year or not?: '))\n",
        "\n",
        "if ((year % 400 == 0) or (year % 4 == 0) and (year % 100 !=0)): \n",
        "  print(f\"{year} is a leap year\")\n",
        "else:\n",
        "  print(f\"{year} is not a leap year\")"
      ]
    },
    {
      "cell_type": "code",
      "execution_count": null,
      "metadata": {
        "colab": {
          "base_uri": "https://localhost:8080/"
        },
        "id": "B-6KGRIbQGHZ",
        "outputId": "e4c43d80-dfcb-4b32-b77d-b434c8fcfa2d"
      },
      "outputs": [
        {
          "name": "stdout",
          "output_type": "stream",
          "text": [
            "Enter a number: 4\n",
            "4 is a not prime number\n"
          ]
        }
      ],
      "source": [
        "#Write a Python Program to Check Prime Number?\n",
        "number = int(input('Enter a number: '))\n",
        "count = 0\n",
        "\n",
        "for i in range(2, (number//2 +1)):\n",
        "  if number % i == 0:\n",
        "    count += count +1\n",
        "    break\n",
        "if count == 0 and number != 0:\n",
        "  print(f\"{number} is a prime number\")\n",
        "else:\n",
        "  print(f\"{number} is a not prime number\")"
      ]
    },
    {
      "cell_type": "code",
      "execution_count": null,
      "metadata": {
        "colab": {
          "base_uri": "https://localhost:8080/"
        },
        "id": "O30TH_HpQGEw",
        "outputId": "2d33cf10-b237-45c9-c760-e7ff1d50e83f"
      },
      "outputs": [
        {
          "name": "stdout",
          "output_type": "stream",
          "text": [
            " 2   3   5   7   11   13   17   19   23   29   31   37   41   43   47   53   59   61   67   71   73   79   83   89   97  "
          ]
        }
      ],
      "source": [
        "for Number in range (1, 101):\n",
        "    count = 0\n",
        "    for i in range(2, (Number//2 + 1)):\n",
        "        if(Number % i == 0):\n",
        "            count = count + 1\n",
        "            break\n",
        "\n",
        "    if (count == 0 and Number != 1):\n",
        "        print(\" %d\" %Number, end = '  ')"
      ]
    },
    {
      "cell_type": "code",
      "execution_count": null,
      "metadata": {
        "colab": {
          "base_uri": "https://localhost:8080/"
        },
        "id": "-rmV0lj-QGBv",
        "outputId": "0ede5888-3ba4-4f20-ff37-0e1859f48d45"
      },
      "outputs": [
        {
          "data": {
            "text/plain": [
              "True"
            ]
          },
          "execution_count": 24,
          "metadata": {},
          "output_type": "execute_result"
        },
        {
          "data": {
            "text/plain": [
              "True"
            ]
          },
          "execution_count": 25,
          "metadata": {},
          "output_type": "execute_result"
        }
      ],
      "source": [
        "True or True and False"
      ]
    },
    {
      "cell_type": "markdown",
      "metadata": {
        "id": "dnTgrHTpmlhB"
      },
      "source": [
        "#Programming_Assingment-04#"
      ]
    },
    {
      "cell_type": "markdown",
      "metadata": {
        "id": "tU71ycCCwjD_"
      },
      "source": [
        "1. Write a Python Program to Find the Factorial of a Number?"
      ]
    },
    {
      "cell_type": "code",
      "execution_count": null,
      "metadata": {
        "colab": {
          "base_uri": "https://localhost:8080/"
        },
        "id": "xHbRRlDEwlZh",
        "outputId": "c9635f4f-5669-4626-b7ae-36cd233664d1"
      },
      "outputs": [
        {
          "name": "stdout",
          "output_type": "stream",
          "text": [
            "enter a number: 10\n",
            "3628800\n"
          ]
        }
      ],
      "source": [
        "number = int(input('enter a number: '))\n",
        "factorial = 1\n",
        "for i in range(0,number):\n",
        "  factorial *=number\n",
        "  number -=1\n",
        "print(factorial)\n"
      ]
    },
    {
      "cell_type": "markdown",
      "metadata": {
        "id": "3CExHGeZxnGv"
      },
      "source": [
        "2. Write a Python Program to Display the multiplication Table?"
      ]
    },
    {
      "cell_type": "code",
      "execution_count": null,
      "metadata": {
        "id": "AnPpNk-ExoV5"
      },
      "outputs": [],
      "source": [
        "table_name =int(input('enter a tabel name:'))\n",
        "for i in range(0,11):\n",
        "  print(f\"{table_name} X {i}  = {table_name*i}\")\n"
      ]
    },
    {
      "cell_type": "markdown",
      "metadata": {
        "id": "-7_j0xvjzCVu"
      },
      "source": [
        "3. Write a Python Program to Print the Fibonacci sequence?"
      ]
    },
    {
      "cell_type": "code",
      "execution_count": null,
      "metadata": {
        "id": "Qte-XbGHzEE5"
      },
      "outputs": [],
      "source": [
        "def fib02(number):\n",
        "  a = 0\n",
        "  b = 1\n",
        "  for i in range(1,number+1):    \n",
        "    yield a\n",
        "    a,b = b,a+b\n",
        "for i in fib02(10):\n",
        "  print(i)"
      ]
    },
    {
      "cell_type": "markdown",
      "metadata": {
        "id": "HA9qZlyS0qio"
      },
      "source": [
        "4. Write a Python Program to Check Armstrong Number?"
      ]
    },
    {
      "cell_type": "code",
      "execution_count": null,
      "metadata": {
        "colab": {
          "base_uri": "https://localhost:8080/"
        },
        "id": "b6L4-Plb1EeQ",
        "outputId": "e6cb3bee-14e6-480f-ddef-91d9ac3d884d"
      },
      "outputs": [
        {
          "name": "stdout",
          "output_type": "stream",
          "text": [
            "enter a number407\n",
            "407 is a armstrong number\n"
          ]
        }
      ],
      "source": [
        "num = int(input('enter a number'))\n",
        "sum = 0\n",
        "\n",
        "temp = num\n",
        "\n",
        "while temp > 0:\n",
        "    digit = temp % 10\n",
        "    sum += digit**3\n",
        "    temp //= 10\n",
        "\n",
        "if num == sum:\n",
        "    print(f\"{num} is a armstrong number\")\n",
        "else:\n",
        "    print(f\"{num} is not a armstrong number\")\n"
      ]
    },
    {
      "cell_type": "markdown",
      "metadata": {
        "id": "ulizphgKAgI7"
      },
      "source": [
        "5. Write a Python Program to Find Armstrong Number in an Interval?"
      ]
    },
    {
      "cell_type": "code",
      "execution_count": null,
      "metadata": {
        "colab": {
          "base_uri": "https://localhost:8080/"
        },
        "id": "IhVu0x_bAfmz",
        "outputId": "85df1b07-49c7-4cec-9717-14d0ca04547b"
      },
      "outputs": [
        {
          "name": "stdout",
          "output_type": "stream",
          "text": [
            "Armstrong number :[153, 370, 371, 407, 1634, 8208, 9474, 54748, 92727, 93084] \n"
          ]
        }
      ],
      "source": [
        "l = []\n",
        "for number in range(10,100000):\n",
        "    order = len(str(number))    \n",
        "    sum = 0\n",
        "    temp = number\n",
        "    while temp > 0:\n",
        "        digit = temp % 10\n",
        "        sum += digit**order\n",
        "        temp //= 10\n",
        "\n",
        "    if number == sum:    \n",
        "        l.append(number)\n",
        "print(f\"Armstrong number :{l} \")"
      ]
    },
    {
      "cell_type": "markdown",
      "metadata": {
        "id": "dhkKiHthGfwL"
      },
      "source": [
        "6. Write a Python Program to Find the Sum of Natural Numbers?"
      ]
    },
    {
      "cell_type": "code",
      "execution_count": null,
      "metadata": {
        "colab": {
          "base_uri": "https://localhost:8080/"
        },
        "id": "-ZOFMus6Gha2",
        "outputId": "0754ee53-daa2-4931-916d-b083c194cbb7"
      },
      "outputs": [
        {
          "name": "stdout",
          "output_type": "stream",
          "text": [
            "Enter a number: 5\n",
            "15\n"
          ]
        }
      ],
      "source": [
        "natural_number = int(input('Enter a number: '))\n",
        "sum = 0\n",
        "\n",
        "while natural_number > 0:\n",
        "  sum = sum + natural_number\n",
        "  natural_number -= 1\n",
        "print(sum)"
      ]
    },
    {
      "cell_type": "markdown",
      "metadata": {
        "id": "-UHTFdNAnQU6"
      },
      "source": [
        "\n",
        "#Programming_Assingment-05#"
      ]
    },
    {
      "cell_type": "markdown",
      "metadata": {
        "id": "yA2X35ZTJaJB"
      },
      "source": [
        "1. Write a Python Program to Find LCM?"
      ]
    },
    {
      "cell_type": "code",
      "execution_count": null,
      "metadata": {
        "colab": {
          "base_uri": "https://localhost:8080/"
        },
        "id": "Svmbep5fJc3z",
        "outputId": "ad876090-66f8-42a4-8a3b-670424761e42"
      },
      "outputs": [
        {
          "name": "stdout",
          "output_type": "stream",
          "text": [
            "Number one : 84\n",
            "Number second : 24\n",
            "LCM of 84 and 24 is 168\n"
          ]
        }
      ],
      "source": [
        "# Find the LCM of two numbers\n",
        "\n",
        "n1 = int(input('Number one : '))\n",
        "n2 = int(input('Number second : '))\n",
        "\n",
        "if n1 > n2:\n",
        "  lcm = n1\n",
        "else:\n",
        "  lcm = n2\n",
        "\n",
        "while True:\n",
        "  if lcm % n1 == 0 and lcm % n2 == 0:\n",
        "    break\n",
        "  else:\n",
        "    lcm +=1\n",
        "\n",
        "print(f'LCM of {n1} and {n2} is {lcm}')"
      ]
    },
    {
      "cell_type": "markdown",
      "metadata": {
        "id": "hGAvdehgJg7L"
      },
      "source": [
        "2. Write a Python Program to Find HCF?"
      ]
    },
    {
      "cell_type": "code",
      "execution_count": null,
      "metadata": {
        "colab": {
          "base_uri": "https://localhost:8080/"
        },
        "id": "NLCIaDWXJiL4",
        "outputId": "44597292-3fa2-49fe-9433-9c07194fdbf7"
      },
      "outputs": [
        {
          "name": "stdout",
          "output_type": "stream",
          "text": [
            "Enter a number one : 84\n",
            "Enter a number two : 24\n",
            "HCF of 84 and 24 is 12\n"
          ]
        }
      ],
      "source": [
        "#Find the HCF of two number\n",
        "num1 = int(input('Enter a number one : '))\n",
        "num2 = int(input('Enter a number two : '))\n",
        "\n",
        "if num1 > num2:\n",
        "  hcf = num1\n",
        "else:\n",
        "  hcf = num2\n",
        "\n",
        "while True:\n",
        "  if num1 % hcf == 0 and num2 % hcf == 0:\n",
        "    break\n",
        "  else:\n",
        "    hcf -= 1\n",
        "print(f'HCF of {num1} and {num2} is {hcf}')"
      ]
    },
    {
      "cell_type": "markdown",
      "metadata": {
        "id": "Q6j0mcMoJkb9"
      },
      "source": [
        "3. Write a Python Program to Convert Decimal to Binary, Octal and Hexadecimal?"
      ]
    },
    {
      "cell_type": "code",
      "execution_count": null,
      "metadata": {
        "colab": {
          "base_uri": "https://localhost:8080/"
        },
        "id": "8swWDQITJmcM",
        "outputId": "a7d1c6b4-d1bb-45e5-c0fd-14a7456a2d78"
      },
      "outputs": [
        {
          "name": "stdout",
          "output_type": "stream",
          "text": [
            "Binary is 10000, Octal is 20 ,and Hexadecimal is 10\n"
          ]
        }
      ],
      "source": [
        "#Coonvert decimal to binary,octal and hexadecimal\n",
        "\n",
        "def convertor(n):\n",
        "  print('Binary is {:b}, Octal is {:o} ,and Hexadecimal is {:x}'.format(n,n,n))\n",
        "  \n",
        "\n",
        "convertor(16)"
      ]
    },
    {
      "cell_type": "markdown",
      "metadata": {
        "id": "PLdUXUxkJpp8"
      },
      "source": [
        "4. Write a Python Program To Find ASCII value of a character?"
      ]
    },
    {
      "cell_type": "code",
      "execution_count": null,
      "metadata": {
        "colab": {
          "base_uri": "https://localhost:8080/"
        },
        "id": "hg5SGVyiJuzi",
        "outputId": "8bb1ac7c-de4d-441b-a60e-ee0492304e3b"
      },
      "outputs": [
        {
          "name": "stdout",
          "output_type": "stream",
          "text": [
            "65,97\n",
            "a,A\n"
          ]
        }
      ],
      "source": [
        "#function ti find ASCII Value(integer) of character\n",
        "\n",
        "char = 'A'\n",
        "ch2 = 'a'\n",
        "\n",
        "print(f'{ord(char)},{ord(ch2)}')\n",
        "print(f'{chr(97)},{chr(65)}')"
      ]
    },
    {
      "cell_type": "markdown",
      "metadata": {
        "id": "m_nEGEI8JwGE"
      },
      "source": [
        "5. Write a Python Program to Make a Simple Calculator with 4 basic mathematical operations?"
      ]
    },
    {
      "cell_type": "code",
      "execution_count": null,
      "metadata": {
        "colab": {
          "base_uri": "https://localhost:8080/"
        },
        "id": "xfipC8UijkAN",
        "outputId": "a6734a19-d331-4e55-bb3b-b3b957f5d390"
      },
      "outputs": [
        {
          "name": "stdout",
          "output_type": "stream",
          "text": [
            "Enter a Number1: 80\n",
            "What do you want to perform calculation  +,-,*,/ : \n",
            "/\n",
            "Enter a Number2: 8\n",
            "this is a final result: 10.0\n"
          ]
        },
        {
          "data": {
            "text/plain": [
              "10.0"
            ]
          },
          "execution_count": 2,
          "metadata": {},
          "output_type": "execute_result"
        }
      ],
      "source": [
        "# Write a fuction to make simple calculator\n",
        "\n",
        "n1= float(input('Enter a Number1: '))\n",
        "\n",
        "print('What do you want to perform calculation  +,-,*,/ : ')\n",
        "flag = True\n",
        "while flag:    \n",
        "    operation = input()\n",
        "    if operation == '+' or operation == '-' or operation =='/' or operation == '*':\n",
        "        cal = operation\n",
        "        flag = False\n",
        "    else:\n",
        "        print('Enter a proper operation')\n",
        "        \n",
        "\n",
        "n2 = float(input('Enter a Number2: '))\n",
        "\n",
        "def add():\n",
        "    return n1 + n2\n",
        "\n",
        "def substract():\n",
        "    return n1 - n2\n",
        "\n",
        "def multiply():\n",
        "    return n1 * n2\n",
        "\n",
        "def division():\n",
        "    return n1 / n2\n",
        "\n",
        "calculs = {'+':add(),'-':substract(),'*':multiply(),'/':division() }\n",
        "final = calculs[cal]\n",
        "\n",
        "def result(final):\n",
        "    print(f'this is a final result: {final}')\n",
        "    return final\n",
        "\n",
        "result(final)"
      ]
    },
    {
      "cell_type": "markdown",
      "metadata": {
        "id": "DMlCbPxQndtg"
      },
      "source": [
        "#Programming_Assingment-06#"
      ]
    },
    {
      "cell_type": "markdown",
      "metadata": {
        "id": "OZpy2r5esUlv"
      },
      "source": [
        "1. Write a Python Program to Display Fibonacci Sequence Using Recursion?"
      ]
    },
    {
      "cell_type": "code",
      "execution_count": null,
      "metadata": {
        "colab": {
          "base_uri": "https://localhost:8080/"
        },
        "id": "ugj1oavjsbae",
        "outputId": "cb695803-ef58-4e9c-dc25-6760505b2ac3"
      },
      "outputs": [
        {
          "name": "stdout",
          "output_type": "stream",
          "text": [
            "How many fibonacci wants: 10\n",
            "0,1,1,2,3,5,8,13,21,34,55,"
          ]
        }
      ],
      "source": [
        "def fibonacci(n):\n",
        "  a = 0\n",
        "  b = 1\n",
        "  for i in range(0,n+1):\n",
        "    yield a\n",
        "    a,b = b,a+b\n",
        "n = int(input('How many fibonacci wants: '))\n",
        "for i in fibonacci(n):\n",
        "  print(i,end=\",\")"
      ]
    },
    {
      "cell_type": "markdown",
      "metadata": {
        "id": "8jnkd_dwsb4O"
      },
      "source": [
        "2. Write a Python Program to Find Factorial of Number Using Recursion?"
      ]
    },
    {
      "cell_type": "code",
      "execution_count": null,
      "metadata": {
        "colab": {
          "base_uri": "https://localhost:8080/"
        },
        "id": "zku5iYFQseTe",
        "outputId": "7edfdcd9-8ccd-4c80-b222-277a7fc84a95"
      },
      "outputs": [
        {
          "name": "stdout",
          "output_type": "stream",
          "text": [
            "Enter a number for find factorial:! 7\n"
          ]
        },
        {
          "data": {
            "text/plain": [
              "5040"
            ]
          },
          "execution_count": 60,
          "metadata": {},
          "output_type": "execute_result"
        }
      ],
      "source": [
        "def factorial():\n",
        "  n =  int(input('Enter a number for find factorial:! '))\n",
        "\n",
        "  x = 1\n",
        "  for i in range(1,n+1):\n",
        "    x *= i\n",
        "  return x\n",
        "\n",
        "factorial()"
      ]
    },
    {
      "cell_type": "markdown",
      "metadata": {
        "id": "IcgIFZ_gsiYS"
      },
      "source": [
        "3. Write a Python Program to calculate your Body Mass Index?\n",
        "\n",
        "$BMI = kg/m2 $"
      ]
    },
    {
      "cell_type": "code",
      "execution_count": null,
      "metadata": {
        "colab": {
          "base_uri": "https://localhost:8080/"
        },
        "id": "HdiCFKd7seCA",
        "outputId": "ba135c9b-fa30-4957-c572-acb54723ce60"
      },
      "outputs": [
        {
          "name": "stdout",
          "output_type": "stream",
          "text": [
            "Enter a weight: 80\n",
            "Enter a Height: 1.7\n",
            "BMI is 27.68 kg/meter square\n"
          ]
        }
      ],
      "source": [
        "weight = float(input('Enter a weight: '))\n",
        "height = float(input('Enter a Height: '))\n",
        "bmi = round(weight/(height*height),2)\n",
        "\n",
        "print(f'BMI is {bmi} kg/meter square')"
      ]
    },
    {
      "cell_type": "markdown",
      "metadata": {
        "id": "gr_GpnPqsnle"
      },
      "source": [
        "4. Write a Python Program to calculate the natural logarithm of any number?"
      ]
    },
    {
      "cell_type": "code",
      "execution_count": null,
      "metadata": {
        "colab": {
          "base_uri": "https://localhost:8080/"
        },
        "id": "uxnbzGSOsdoB",
        "outputId": "0dd1f3d4-d594-49b2-ba07-de62f89ae241"
      },
      "outputs": [
        {
          "name": "stdout",
          "output_type": "stream",
          "text": [
            "wants to find loge value of: 20\n",
            "Natural Logarithm is: 2.995732273553991\n"
          ]
        }
      ],
      "source": [
        "import math\n",
        "n = int(input('wants to find loge value of: '))\n",
        "print('Natural Logarithm is:',math.log(n))"
      ]
    },
    {
      "cell_type": "markdown",
      "metadata": {
        "id": "werADEvCsrYS"
      },
      "source": [
        "5. Write a Python Program for cube sum of first n natural numbers?"
      ]
    },
    {
      "cell_type": "code",
      "execution_count": null,
      "metadata": {
        "colab": {
          "base_uri": "https://localhost:8080/"
        },
        "id": "sEpxDV49sst0",
        "outputId": "17fba7af-f8ca-41f5-fd92-d3d8f8578dce"
      },
      "outputs": [
        {
          "name": "stdout",
          "output_type": "stream",
          "text": [
            "Natural number up to: 3\n",
            "Sum of from 1 to 3 number's cube is 36\n"
          ]
        }
      ],
      "source": [
        "n = int(input('Natural number up to: '))\n",
        "sum = 0\n",
        "for i in range(1,n+1):\n",
        "  sum += i**3\n",
        "print(f\"Sum of from 1 to {n} number's cube is {sum}\")"
      ]
    },
    {
      "cell_type": "markdown",
      "metadata": {
        "id": "_igBxU13nxjY"
      },
      "source": [
        "#Programming_Assingment-07#"
      ]
    },
    {
      "cell_type": "markdown",
      "metadata": {
        "id": "1-cM9Hz5zOI1"
      },
      "source": [
        "1. Write a Python Program to find sum of array?"
      ]
    },
    {
      "cell_type": "code",
      "execution_count": null,
      "metadata": {
        "colab": {
          "base_uri": "https://localhost:8080/"
        },
        "id": "UJjk2Grxn2IY",
        "outputId": "02890a51-f6a4-443c-ecb3-c460fda4faa8"
      },
      "outputs": [
        {
          "data": {
            "text/plain": [
              "array('i', [3, 5, 6, 7, 10, 20, 30, 40])"
            ]
          },
          "execution_count": 11,
          "metadata": {},
          "output_type": "execute_result"
        }
      ],
      "source": [
        "from array import *\n",
        "# Programm to find sum of two array\n",
        "\n",
        "a = array('i', [3,5,6,7])\n",
        "b = array('i', [10,20,30,40])\n",
        "\n",
        "def find_sum(x,y):\n",
        "  #check type of input\n",
        "  if type(x) and type(y) == array :\n",
        "    sum_array = x + y\n",
        "    return sum_array\n",
        "\n",
        "  \n",
        "find_sum(a,b)"
      ]
    },
    {
      "cell_type": "code",
      "execution_count": null,
      "metadata": {
        "colab": {
          "base_uri": "https://localhost:8080/"
        },
        "id": "7QttID3R9o74",
        "outputId": "5e49378c-72e1-4599-e7f9-bc9d7125ac2d"
      },
      "outputs": [
        {
          "data": {
            "text/plain": [
              "36.0"
            ]
          },
          "execution_count": 15,
          "metadata": {},
          "output_type": "execute_result"
        }
      ],
      "source": [
        "# Programm to find sum of two array\n",
        "\n",
        "bd = array('f', [10.5, 25.5])\n",
        "\n",
        "def array_sum(arr):\n",
        "  if type(arr) == array :\n",
        "    sum = 0\n",
        "    for i in arr:\n",
        "      sum = sum +i\n",
        "  return sum\n",
        "\n",
        "array_sum(bd)"
      ]
    },
    {
      "cell_type": "markdown",
      "metadata": {
        "id": "rJedGEsmzNBw"
      },
      "source": [
        "2. Write a Python Program to find largest element in an array?"
      ]
    },
    {
      "cell_type": "code",
      "execution_count": null,
      "metadata": {
        "colab": {
          "base_uri": "https://localhost:8080/"
        },
        "id": "tpwUMisKzKrh",
        "outputId": "2015e469-93a0-40aa-91e5-f2ca9e76c4cc"
      },
      "outputs": [
        {
          "data": {
            "text/plain": [
              "10.0"
            ]
          },
          "execution_count": 23,
          "metadata": {},
          "output_type": "execute_result"
        }
      ],
      "source": [
        "import numpy as np\n",
        "# Find the largest element in the array\n",
        "\n",
        "a1 = np.linspace(0,10,5)\n",
        "max(a1)\n"
      ]
    },
    {
      "cell_type": "markdown",
      "metadata": {
        "id": "8VDwHooszS8e"
      },
      "source": [
        "3. Write a Python Program for array rotation?"
      ]
    },
    {
      "cell_type": "code",
      "execution_count": 63,
      "metadata": {
        "colab": {
          "base_uri": "https://localhost:8080/"
        },
        "id": "o5TS84BqzKeW",
        "outputId": "4709a93e-607d-48a7-e08f-c92827429125"
      },
      "outputs": [
        {
          "output_type": "execute_result",
          "data": {
            "text/plain": [
              "array('i', [30, 50, 40, 60, 10, 20])"
            ]
          },
          "metadata": {},
          "execution_count": 63
        }
      ],
      "source": [
        "from array import *\n",
        "# Array rotation as per our reuirements\n",
        "\n",
        "a2 = array('i', [10,20,30,50,40,60])\n",
        "\n",
        "def rotate(arr,d,n):\n",
        "  arr[:] = arr[d:n] + arr[0:d]\n",
        "  return arr\n",
        "\n",
        "rotate(a2,2,len(a2))"
      ]
    },
    {
      "cell_type": "markdown",
      "metadata": {
        "id": "eV_4DVbMzWpQ"
      },
      "source": [
        "4. Write a Python Program to Split the array and add the first part to the end?"
      ]
    },
    {
      "cell_type": "code",
      "execution_count": 71,
      "metadata": {
        "colab": {
          "base_uri": "https://localhost:8080/"
        },
        "id": "56zwwVN6zKOW",
        "outputId": "ea95917c-e51d-4244-b6f9-050b0f512a2a"
      },
      "outputs": [
        {
          "output_type": "execute_result",
          "data": {
            "text/plain": [
              "array('i', [14, 16, 18, 20, 22, 2, 4, 6, 8, 10, 12])"
            ]
          },
          "metadata": {},
          "execution_count": 71
        }
      ],
      "source": [
        "arr1 = array('i',[])\n",
        "\n",
        "for i in range(2,24,2):\n",
        "  arr1.append(i)\n",
        "\n",
        "def split(array,d,n):\n",
        "  '''d = postion of index where to split\n",
        "  n = length of array '''\n",
        "  array = array[d:len(array)] + array[0:d]\n",
        "  return array\n",
        "\n",
        "split(arr1,6,len(arr1))"
      ]
    },
    {
      "cell_type": "markdown",
      "metadata": {
        "id": "7G2gjf6gzZnA"
      },
      "source": [
        "5. Write a Python Program to check if given array is Monotonic?"
      ]
    },
    {
      "cell_type": "code",
      "execution_count": 81,
      "metadata": {
        "id": "7eUboH5MzKEx",
        "colab": {
          "base_uri": "https://localhost:8080/"
        },
        "outputId": "b3b1efc8-14ac-4626-c3a9-09dd4f160b8f"
      },
      "outputs": [
        {
          "output_type": "execute_result",
          "data": {
            "text/plain": [
              "True"
            ]
          },
          "metadata": {},
          "execution_count": 81
        }
      ],
      "source": [
        "# Check given matrice is Monotonic or not:\n",
        "from array import *\n",
        "\n",
        "def isMonotonic(a):\n",
        "  return all(a[i] <= a[i+1] for i in range(len(a)-1)) or all(a[i] >= a[i+1] for i in range(len(a)-1))\n",
        "\n",
        "a = [4,5,6,9]\n",
        "isMonotonic(a)"
      ]
    },
    {
      "cell_type": "markdown",
      "metadata": {
        "id": "u2vy7PlcoAdq"
      },
      "source": [
        "#Programming_Assingment-08#"
      ]
    },
    {
      "cell_type": "markdown",
      "metadata": {
        "id": "3xDVtJ0dzfvD"
      },
      "source": [
        "1. Write a Python Program to Add Two Matrices?"
      ]
    },
    {
      "cell_type": "code",
      "execution_count": 98,
      "metadata": {
        "id": "jxBYuCfBoFpT",
        "colab": {
          "base_uri": "https://localhost:8080/"
        },
        "outputId": "c7e45343-8d0b-4e01-8ecd-9221437c2630"
      },
      "outputs": [
        {
          "output_type": "stream",
          "name": "stdout",
          "text": [
            "[[2 4 5]\n",
            " [5 6 7]]\n",
            "[[ 9  8  7]\n",
            " [10  1  1]]\n",
            "Sum of two Matrices is : \n",
            "[[11 12 12]\n",
            " [15  7  8]]\n"
          ]
        }
      ],
      "source": [
        "from numpy import *\n",
        "# Two matrices sum \n",
        "\n",
        "Matrice_1 = matrix('2 4 5; 5 6 7')\n",
        "Matrice_2 = matrix('9 8 7;10 1 1')\n",
        "print(Matrice_1)\n",
        "print(Matrice_2)\n",
        "sum = Matrice_1 + Matrice_2\n",
        "\n",
        "print('Sum of two Matrices is : ')\n",
        "print(sum)"
      ]
    },
    {
      "cell_type": "markdown",
      "metadata": {
        "id": "r2V22RUGzi-m"
      },
      "source": [
        "\n",
        "2. Write a Python Program to Multiply Two Matrices?"
      ]
    },
    {
      "cell_type": "code",
      "execution_count": 107,
      "metadata": {
        "id": "Q3U8uYJjzkUb",
        "colab": {
          "base_uri": "https://localhost:8080/"
        },
        "outputId": "e57459b8-854b-4f7b-b856-98cb8e6e3b4d"
      },
      "outputs": [
        {
          "output_type": "stream",
          "name": "stdout",
          "text": [
            "[[ 81  61]\n",
            " [136 107]]\n"
          ]
        }
      ],
      "source": [
        "from numpy import *\n",
        "# Two matrices multiplication\n",
        "# r1 and r2 are row of Matrices rexpectively\n",
        "# c1 and c2 are column of matrices respectively\n",
        "\n",
        "r1 ,c2 = 2 , 2\n",
        "r2, c1 = 3 , 3\n",
        "\n",
        "x = reshape(matrix('2 4 5 5 6 7'),(r1, c1))\n",
        "y = reshape(matrix('9 8 7 10 7 1'),(r2, c2))\n",
        "\n",
        "Mult_Matrices = x * y\n",
        "print(Mult_Matrices)"
      ]
    },
    {
      "cell_type": "markdown",
      "metadata": {
        "id": "grsnlQAZzm-R"
      },
      "source": [
        "3. Write a Python Program to Transpose a Matrix?\n"
      ]
    },
    {
      "cell_type": "code",
      "execution_count": 111,
      "metadata": {
        "id": "G-N2W9-6zsyL",
        "colab": {
          "base_uri": "https://localhost:8080/"
        },
        "outputId": "97ef66eb-778e-4a59-aa4b-870a02df32e8"
      },
      "outputs": [
        {
          "output_type": "stream",
          "name": "stdout",
          "text": [
            "[[2 3 5]\n",
            " [5 5 3]\n",
            " [8 2 1]]\n",
            "[[2 5 8]\n",
            " [3 5 2]\n",
            " [5 3 1]]\n"
          ]
        }
      ],
      "source": [
        "# Transpose a given matreic\n",
        "from numpy import *\n",
        "\n",
        "m = matrix('2 3 5; 5 5 3; 8 2 1')\n",
        "print(m)\n",
        "\n",
        "n = m.transpose() # transpose matrix function\n",
        "print(n)"
      ]
    },
    {
      "cell_type": "markdown",
      "metadata": {
        "id": "Fkl5Of2tzpWg"
      },
      "source": [
        "4. Write a Python Program to Sort Words in Alphabetic Order?\n"
      ]
    },
    {
      "cell_type": "code",
      "execution_count": 122,
      "metadata": {
        "id": "g5qTtRPjztc5",
        "colab": {
          "base_uri": "https://localhost:8080/"
        },
        "outputId": "5ad22c3d-3ec6-42f5-cc0f-e5c78feb319e"
      },
      "outputs": [
        {
          "output_type": "stream",
          "name": "stdout",
          "text": [
            "enter a word with space : \n",
            "hi i am a kesha umaretiya and i am working with reliance jio at vadodara as an ianl\n",
            "a am am an and as at hi i i ianl jio kesha reliance umaretiya vadodara with working "
          ]
        }
      ],
      "source": [
        "# Programm to shorting a word in alphabetic order\n",
        "\n",
        "word = input('enter a word with space : \\n')\n",
        "c = word.split()\n",
        "c.sort()\n",
        "\n",
        "type(word)\n",
        "for i in c:\n",
        "  print(i, end=' ')"
      ]
    },
    {
      "cell_type": "markdown",
      "metadata": {
        "id": "73mMyhDuzrI4"
      },
      "source": [
        "5. Write a Python Program to Remove Punctuation From a String?"
      ]
    },
    {
      "cell_type": "code",
      "execution_count": 126,
      "metadata": {
        "id": "WLr73b31zuxn",
        "colab": {
          "base_uri": "https://localhost:8080/"
        },
        "outputId": "d2a352fb-fd69-4dd7-b9ef-77a7535809ba"
      },
      "outputs": [
        {
          "output_type": "stream",
          "name": "stdout",
          "text": [
            "hi ! and $ oj) or %\n",
            "hi   and   oj  or  \n"
          ]
        }
      ],
      "source": [
        "# remove punctuation from string \n",
        "\n",
        "punc = '''!()-[]{};:'\"\\,<>./?@#$%^&*_~'''\n",
        "\n",
        "srt = 'hi ! and $ oj) or %'\n",
        "print(srt)\n",
        "for i in srt:\n",
        "  if i in punc:\n",
        "    srt = srt.replace(i,' ')\n",
        "print(srt)\n"
      ]
    }
  ],
  "metadata": {
    "colab": {
      "collapsed_sections": [
        "LU9jU_1oIAIK",
        "EwLSYSZgLRlD",
        "trotW0ssRfo1",
        "DMlCbPxQndtg"
      ],
      "name": "iNeuron_Python Programming Basic Assignment 01 to 08.ipynb",
      "provenance": [],
      "toc_visible": true,
      "authorship_tag": "ABX9TyOSsAfTwMKa6ANzzi1+ZLRo",
      "include_colab_link": true
    },
    "kernelspec": {
      "display_name": "Python 3",
      "name": "python3"
    },
    "language_info": {
      "name": "python"
    }
  },
  "nbformat": 4,
  "nbformat_minor": 0
}